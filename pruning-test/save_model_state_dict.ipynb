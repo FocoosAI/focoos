{
 "cells": [
  {
   "cell_type": "code",
   "execution_count": null,
   "id": "a08421b4",
   "metadata": {},
   "outputs": [],
   "source": [
    "%cd /home/ubuntu/focoos-2"
   ]
  },
  {
   "cell_type": "code",
   "execution_count": null,
   "id": "11f514ca",
   "metadata": {},
   "outputs": [],
   "source": [
    "import torch\n",
    "\n",
    "from focoos import ModelManager\n",
    "\n",
    "MODEL_PATH = \"pruning-test/models/fai-cls-n-coco/model_final.pth\"\n",
    "STATE_DICT_PATH = \"pruning-test/models/fai-cls-n-coco/state_dict_fai-cls-n-coco.txt\""
   ]
  },
  {
   "cell_type": "code",
   "execution_count": null,
   "id": "39f1d92c",
   "metadata": {},
   "outputs": [],
   "source": [
    "model = torch.load(MODEL_PATH, weights_only=False)\n",
    "model = model[\"model\"]\n",
    "\n",
    "# model = ModelManager.get(\"fai-cls-n-coco\")\n",
    "\n",
    "# print(type(model))\n",
    "# print(model.model.modules())"
   ]
  },
  {
   "cell_type": "code",
   "execution_count": null,
   "id": "6b1015c6",
   "metadata": {},
   "outputs": [],
   "source": [
    "with open(STATE_DICT_PATH, \"a\") as f:\n",
    "    for k, v in model.items():\n",
    "        print(f\"{k}: {v}\", file=f)"
   ]
  },
  {
   "cell_type": "markdown",
   "id": "ff215249",
   "metadata": {},
   "source": [
    "# Load pruned model"
   ]
  },
  {
   "cell_type": "code",
   "execution_count": null,
   "id": "c1e792e2",
   "metadata": {},
   "outputs": [],
   "source": [
    "LOCAL_MODEL_PATH = \"pruning-test/models/test-1\"\n",
    "focoos_model = ModelManager.get(LOCAL_MODEL_PATH)\n",
    "\n",
    "print(focoos_model.model.state_dict())"
   ]
  }
 ],
 "metadata": {
  "kernelspec": {
   "display_name": ".venv",
   "language": "python",
   "name": "python3"
  },
  "language_info": {
   "codemirror_mode": {
    "name": "ipython",
    "version": 3
   },
   "file_extension": ".py",
   "mimetype": "text/x-python",
   "name": "python",
   "nbconvert_exporter": "python",
   "pygments_lexer": "ipython3",
   "version": "3.12.9"
  }
 },
 "nbformat": 4,
 "nbformat_minor": 5
}
