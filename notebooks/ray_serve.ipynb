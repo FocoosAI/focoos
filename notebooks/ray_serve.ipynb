{
 "cells": [
  {
   "cell_type": "code",
   "execution_count": null,
   "metadata": {},
   "outputs": [],
   "source": [
    "%pip install \"ray[serve]\""
   ]
  },
  {
   "cell_type": "code",
   "execution_count": null,
   "metadata": {},
   "outputs": [],
   "source": [
    "from focoos import Focoos, FocoosEnvHostUrl\n",
    "from pprint import pprint\n",
    "import os\n",
    "\n",
    "focoos = Focoos(api_key=os.getenv(\"FOCOOS_API_KEY\"), host_url=FocoosEnvHostUrl.DEV)\n",
    "\n",
    "pprint(focoos.list_models())"
   ]
  },
  {
   "cell_type": "code",
   "execution_count": null,
   "metadata": {},
   "outputs": [],
   "source": [
    "import requests\n",
    "import time\n",
    "\n",
    "\n",
    "def ray_infer(model_id: str):\n",
    "    image_path = \"./assets/ade_val_034.jpg\"\n",
    "    im_bytes = open(image_path, \"rb\").read()\n",
    "    response = requests.post(\n",
    "        \"http://localhost:8005\",\n",
    "        data=im_bytes,\n",
    "        headers={\"serve_multiplexed_model_id\": str(model_id)},\n",
    "    )\n",
    "    return response.json()\n",
    "\n",
    "\n",
    "t0 = time.time()\n",
    "res = ray_infer(\"focoos_object365\")\n",
    "t1 = time.time()\n",
    "print(f\"t: {t1-t0:.3f} seconds\")\n",
    "print(res)"
   ]
  },
  {
   "cell_type": "markdown",
   "metadata": {},
   "source": []
  },
  {
   "cell_type": "code",
   "execution_count": null,
   "metadata": {},
   "outputs": [],
   "source": [
    "iters = 10\n",
    "\n",
    "print(\"RAY\")\n",
    "for model_id in [\n",
    "    \"645b15a6b2c044c2\",\n",
    "    \"focoos_rtdetr\",\n",
    "    \"focoos_ade_medium\",\n",
    "    \"focoos_object365\",\n",
    "    \"focoos_aeroscapes\",\n",
    "    \"focoos_ade_small\",\n",
    "    \"focoos_isaid_nano\",\n",
    "    \"focoos_coco_tiny\",\n",
    "]:\n",
    "    t0 = time.time()\n",
    "    for i in range(iters):\n",
    "        ray_infer(model_id)\n",
    "    t1 = time.time()\n",
    "    print(\n",
    "        f\"{model_id} fps: {iters/(t1-t0):.3f}  ({(t1-t0)*1000/iters:.3f}ms per image)\"\n",
    "    )"
   ]
  },
  {
   "cell_type": "code",
   "execution_count": null,
   "metadata": {},
   "outputs": [],
   "source": [
    "import logging\n",
    "from focoos import Focoos, FocoosEnvHostUrl\n",
    "from pprint import pprint\n",
    "import os\n",
    "\n",
    "logger = logging.getLogger(__name__)\n",
    "logging.basicConfig(level=logging.INFO)\n",
    "iters = 10\n",
    "focoos = Focoos(api_key=os.getenv(\"FOCOOS_API_KEY\"), host_url=FocoosEnvHostUrl.LOCAL)\n",
    "image_path = \"./assets/ade_val_034.jpg\"\n",
    "\n",
    "print(\"API+TRITON+WAF\")\n",
    "prints = []\n",
    "for model_id in [\n",
    "    \"focoos_rtdetr\",\n",
    "    \"focoos_ade_medium\",\n",
    "    \"focoos_object365\",\n",
    "    \"focoos_aeroscapes\",\n",
    "    \"focoos_ade_small\",\n",
    "    \"focoos_isaid_nano\",\n",
    "]:\n",
    "    model = focoos.get_model(model_id)\n",
    "\n",
    "    t0 = time.time()\n",
    "    for i in range(iters):\n",
    "        model.remote_infer(image_path)\n",
    "    t1 = time.time()\n",
    "    _str = (\n",
    "        f\"{model_id} fps: {iters/(t1-t0):.3f}  ({(t1-t0)*1000/iters:.3f}ms per image)\"\n",
    "    )\n",
    "    prints.append(_str)\n",
    "\n",
    "print(\"\\n\".join(prints))"
   ]
  },
  {
   "cell_type": "code",
   "execution_count": null,
   "metadata": {},
   "outputs": [],
   "source": [
    "import ray\n",
    "\n",
    "ray.init(address=\"localhost:6379\")"
   ]
  },
  {
   "cell_type": "markdown",
   "metadata": {},
   "source": [
    "## RAY SERVE DEPLOY "
   ]
  },
  {
   "cell_type": "code",
   "execution_count": null,
   "metadata": {},
   "outputs": [],
   "source": [
    "!serve deploy ../ray-config.yaml -a http://127.0.0.1:8265"
   ]
  },
  {
   "cell_type": "code",
   "execution_count": null,
   "metadata": {},
   "outputs": [],
   "source": [
    "!serve status"
   ]
  },
  {
   "cell_type": "code",
   "execution_count": null,
   "metadata": {},
   "outputs": [],
   "source": [
    "!serve config\n"
   ]
  },
  {
   "cell_type": "code",
   "execution_count": null,
   "metadata": {},
   "outputs": [],
   "source": [
    "!serve shutdown -y"
   ]
  },
  {
   "cell_type": "markdown",
   "metadata": {},
   "source": [
    "## RAY JOBS"
   ]
  },
  {
   "cell_type": "code",
   "execution_count": null,
   "metadata": {},
   "outputs": [],
   "source": [
    "from ray.job_submission import JobSubmissionClient\n",
    "from ray.runtime_env import RuntimeEnv\n",
    "import os\n",
    "\n",
    "\n",
    "client = JobSubmissionClient(\"http://localhost:8265\")\n",
    "runtime_env = RuntimeEnv(\n",
    "    # container={\"image\": \"ghcr.io/focoosai/deeplearning:base-cu12-pt22\"},\n",
    "    pip=[\n",
    "        \"focoos\",\n",
    "        \"requests\",\n",
    "        \"Pillow~=10.4.0\",\n",
    "        \"supervision~=0.24.0\",\n",
    "        \"pydantic~=2.8.2\",\n",
    "        \"pydantic-settings~=2.5.0\",\n",
    "        \"tqdm~=4.66.6\",\n",
    "        \"numpy~=1.26.4\",\n",
    "        \"scipy~=1.14.1\",\n",
    "        \"gradio\",\n",
    "    ],\n",
    "    env_vars={\"FOCOOS_API_KEY\": os.environ[\"FOCOOS_API_KEY\"]},\n",
    "    # working_dir=\"./assets/\"\n",
    ")\n",
    "for model_id in [\n",
    "    \"focoos_object365\",\n",
    "    \"focoos_rtdetr\",\n",
    "    \"focoos_ade_medium\",\n",
    "    \"focoos_ade_small\",\n",
    "    \"focoos_isaid_nano\",\n",
    "]:\n",
    "    job_id = client.submit_job(\n",
    "        entrypoint=f\"python /app/apps/benchmark.py --model {model_id}\",\n",
    "        runtime_env=runtime_env,\n",
    "        entrypoint_num_gpus=0.3,\n",
    "        submission_id=f\"{model_id}_benchmark_{int(time.time())}\",\n",
    "    )\n",
    "    print(client.get_job_info(job_id))\n",
    "    print(client.get_job_logs(job_id))\n",
    "    print(client.get_job_status(job_id))"
   ]
  },
  {
   "cell_type": "code",
   "execution_count": null,
   "metadata": {},
   "outputs": [],
   "source": [
    "print(client.get_job_status(job_id))\n",
    "print(client.get_job_logs(job_id))"
   ]
  },
  {
   "cell_type": "code",
   "execution_count": null,
   "metadata": {},
   "outputs": [],
   "source": [
    "client.get_job_info(job_id)"
   ]
  },
  {
   "cell_type": "code",
   "execution_count": null,
   "metadata": {},
   "outputs": [],
   "source": [
    "client.delete_job(\"03000000\")"
   ]
  }
 ],
 "metadata": {
  "kernelspec": {
   "display_name": "Python 3",
   "language": "python",
   "name": "python3"
  },
  "language_info": {
   "codemirror_mode": {
    "name": "ipython",
    "version": 3
   },
   "file_extension": ".py",
   "mimetype": "text/x-python",
   "name": "python",
   "nbconvert_exporter": "python",
   "pygments_lexer": "ipython3",
   "version": "3.10.15"
  }
 },
 "nbformat": 4,
 "nbformat_minor": 2
}
