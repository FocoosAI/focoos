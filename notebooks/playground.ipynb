{
 "cells": [
  {
   "cell_type": "markdown",
   "metadata": {},
   "source": [
    "# Setup"
   ]
  },
  {
   "cell_type": "code",
   "execution_count": null,
   "metadata": {},
   "outputs": [],
   "source": [
    "%pip install -e ..[dev]"
   ]
  },
  {
   "cell_type": "markdown",
   "metadata": {},
   "source": [
    "# 🤖 Focoos Foundational Models\n"
   ]
  },
  {
   "cell_type": "code",
   "execution_count": null,
   "metadata": {},
   "outputs": [],
   "source": [
    "from focoos import Focoos, FocoosEnvHostUrl\n",
    "from pprint import pprint\n",
    "import os\n",
    "\n",
    "focoos = Focoos(api_key=os.getenv(\"FOCOOS_API_KEY\"), host_url=FocoosEnvHostUrl.DEV)\n",
    "\n",
    "pprint(focoos.list_focoos_models())"
   ]
  },
  {
   "cell_type": "markdown",
   "metadata": {},
   "source": [
    "## Cloud Inference"
   ]
  },
  {
   "cell_type": "code",
   "execution_count": null,
   "metadata": {},
   "outputs": [],
   "source": [
    "from pprint import pprint\n",
    "import os\n",
    "from focoos import DeploymentMode, Focoos, FocoosEnvHostUrl\n",
    "from supervision import plot_image\n",
    "\n",
    "\n",
    "model_ref = \"focoos_object365\"\n",
    "image_path = \"./assets/ade_val_034.jpg\"\n",
    "\n",
    "focoos = Focoos(api_key=os.getenv(\"FOCOOS_API_KEY\"), host_url=FocoosEnvHostUrl.DEV)\n",
    "\n",
    "model = focoos.get_model(model_ref)\n",
    "## Only admin can deploy foundational models\n",
    "# model.deploy(deployment_mode=DeploymentMode.REMOTE, wait=True)\n",
    "\n",
    "output, preview = model.remote_infer(image_path, threshold=0.4, annotate=True)\n",
    "plot_image(preview)"
   ]
  },
  {
   "cell_type": "markdown",
   "metadata": {},
   "source": [
    "### Unload Model"
   ]
  },
  {
   "cell_type": "code",
   "execution_count": null,
   "metadata": {},
   "outputs": [],
   "source": [
    "## Only admin can deploy foundational models\n",
    "model.unload()"
   ]
  },
  {
   "cell_type": "markdown",
   "metadata": {},
   "source": [
    "## Local Inference\n",
    "\n",
    "This section demonstrates how to perform local inference using a model from the Focoos platform. \n",
    "We will load a model, deploy it locally, and then run inference on a sample image.\n"
   ]
  },
  {
   "cell_type": "code",
   "execution_count": null,
   "metadata": {},
   "outputs": [],
   "source": [
    "from focoos import Focoos, FocoosEnvHostUrl, DeploymentMode\n",
    "import os\n",
    "from pprint import pprint\n",
    "from supervision import plot_image\n",
    "\n",
    "\n",
    "focoos = Focoos(\n",
    "    api_key=os.getenv(\"FOCOOS_API_KEY\"),\n",
    "    host_url=FocoosEnvHostUrl.DEV,\n",
    ")\n",
    "image_path = \"./assets/ade_val_034.jpg\"\n",
    "model_ref = \"focoos_object365\"\n",
    "\n",
    "model_info = focoos.get_model_info(model_ref)\n",
    "\n",
    "model = focoos.get_model(model_ref)\n",
    "model.deploy(deployment_mode=DeploymentMode.LOCAL)\n",
    "\n",
    "# latency = model.benchmark(iterations=10, size=640)\n",
    "# pprint(latency)\n",
    "output, preview = model.infer(image_path, threshold=0.3, annotate=True)\n",
    "pprint(output.detections)\n",
    "pprint(output.latency)\n",
    "\n",
    "plot_image(preview)"
   ]
  },
  {
   "cell_type": "markdown",
   "metadata": {},
   "source": [
    "# User Models"
   ]
  },
  {
   "cell_type": "markdown",
   "metadata": {},
   "source": [
    "### List User Models"
   ]
  },
  {
   "cell_type": "code",
   "execution_count": null,
   "metadata": {},
   "outputs": [],
   "source": [
    "from pprint import pprint\n",
    "import os\n",
    "from focoos import Focoos, FocoosEnvHostUrl\n",
    "from dotenv import load_dotenv\n",
    "\n",
    "\n",
    "load_dotenv()\n",
    "\n",
    "focoos = Focoos(api_key=os.getenv(\"FOCOOS_API_KEY\"), host_url=FocoosEnvHostUrl.DEV)\n",
    "\n",
    "models = focoos.list_models()\n",
    "pprint(models)"
   ]
  },
  {
   "cell_type": "markdown",
   "metadata": {},
   "source": [
    "## Create Model"
   ]
  },
  {
   "cell_type": "code",
   "execution_count": null,
   "metadata": {},
   "outputs": [],
   "source": [
    "from pprint import pprint\n",
    "import os\n",
    "from focoos import DeploymentMode, Focoos, FocoosEnvHostUrl\n",
    "from dotenv import load_dotenv\n",
    "\n",
    "\n",
    "load_dotenv()\n",
    "\n",
    "focoos = Focoos(api_key=os.getenv(\"FOCOOS_API_KEY\"), host_url=FocoosEnvHostUrl.LOCAL)\n",
    "\n",
    "model = focoos.new_model(\n",
    "    name=\"test-model\", focoos_model=\"focoos_object365\", description=\"Test model\"\n",
    ")\n",
    "### Get Model Info"
   ]
  },
  {
   "cell_type": "markdown",
   "metadata": {},
   "source": [
    "## Deploy user model on shared cloud endpoint"
   ]
  },
  {
   "cell_type": "code",
   "execution_count": null,
   "metadata": {},
   "outputs": [],
   "source": [
    "from pprint import pprint\n",
    "import os\n",
    "from focoos import Focoos, FocoosEnvHostUrl\n",
    "from dotenv import load_dotenv\n",
    "\n",
    "\n",
    "load_dotenv()\n",
    "\n",
    "focoos = Focoos(api_key=os.getenv(\"FOCOOS_API_KEY\"), host_url=FocoosEnvHostUrl.DEV)\n",
    "\n",
    "model = focoos.get_model(\"fa94df6806c84c11\")\n",
    "model_info = model.get_info()\n",
    "pprint(model_info.location)\n",
    "model.deploy(deployment_mode=DeploymentMode.REMOTE, wait=True)"
   ]
  },
  {
   "cell_type": "markdown",
   "metadata": {},
   "source": [
    "## Cloud Inference"
   ]
  },
  {
   "cell_type": "code",
   "execution_count": null,
   "metadata": {},
   "outputs": [],
   "source": [
    "from pprint import pprint\n",
    "import os\n",
    "from focoos import Focoos, FocoosEnvHostUrl\n",
    "from dotenv import load_dotenv\n",
    "import cv2\n",
    "import numpy as np\n",
    "import supervision as sv\n",
    "\n",
    "load_dotenv()\n",
    "\n",
    "focoos = Focoos(api_key=os.getenv(\"FOCOOS_API_KEY\"), host_url=FocoosEnvHostUrl.DEV)\n",
    "\n",
    "model = focoos.get_model(\"fa94df6806c84c11\")\n",
    "model_info = model.get_info()\n",
    "image_path = \"./assets/aquarium.jpg\"\n",
    "\n",
    "output, preview = model.remote_infer(image_path, threshold=0.5, annotate=True)\n",
    "sv.plot_image(preview)"
   ]
  },
  {
   "cell_type": "markdown",
   "metadata": {},
   "source": [
    "### Model unload "
   ]
  },
  {
   "cell_type": "code",
   "execution_count": null,
   "metadata": {},
   "outputs": [],
   "source": [
    "model.unload()"
   ]
  },
  {
   "cell_type": "markdown",
   "metadata": {},
   "source": [
    "## Local Inference\n",
    "\n",
    "\n"
   ]
  },
  {
   "cell_type": "code",
   "execution_count": null,
   "metadata": {},
   "outputs": [],
   "source": [
    "from focoos import Focoos, FocoosEnvHostUrl, DeploymentMode\n",
    "import os\n",
    "from pprint import pprint\n",
    "from supervision import plot_image\n",
    "\n",
    "\n",
    "focoos = Focoos(\n",
    "    api_key=os.getenv(\"FOCOOS_API_KEY\"),\n",
    "    host_url=FocoosEnvHostUrl.DEV,\n",
    ")\n",
    "image_path = \"./assets/aquarium.jpg\"\n",
    "model_ref = \"focoos_object365\"\n",
    "\n",
    "model_info = focoos.get_model_info(model_ref)\n",
    "\n",
    "model = focoos.get_model(model_ref)\n",
    "model.deploy(deployment_mode=DeploymentMode.LOCAL)\n",
    "\n",
    "latency = model.benchmark(iterations=10, size=640)\n",
    "# pprint(latency)\n",
    "output, preview = model.infer(image_path, threshold=0.3, annotate=True)\n",
    "\n",
    "plot_image(preview)"
   ]
  },
  {
   "cell_type": "markdown",
   "metadata": {},
   "source": [
    "## Train a Model"
   ]
  },
  {
   "cell_type": "markdown",
   "metadata": {},
   "source": [
    "### List Public Datasets\n"
   ]
  },
  {
   "cell_type": "code",
   "execution_count": null,
   "metadata": {},
   "outputs": [],
   "source": [
    "from pprint import pprint\n",
    "import os\n",
    "from focoos import Focoos, FocoosEnvHostUrl\n",
    "from dotenv import load_dotenv\n",
    "\n",
    "\n",
    "load_dotenv()\n",
    "\n",
    "focoos = Focoos(api_key=os.getenv(\"FOCOOS_API_KEY\"), host_url=FocoosEnvHostUrl.LOCAL)\n",
    "\n",
    "models = focoos.list_models()\n",
    "pprint(models)\n",
    "\n",
    "model = focoos.new_model(\n",
    "    name=\"test-model-2\", focoos_model=\"focoos_object365\", description=\"Test model\"\n",
    ")\n",
    "\n",
    "\n",
    "model = focoos.get_model(\"fa94df6806c84c11\")\n",
    "\n",
    "datasets = focoos.list_shared_datasets()\n",
    "pprint(datasets)"
   ]
  },
  {
   "cell_type": "code",
   "execution_count": null,
   "metadata": {},
   "outputs": [],
   "source": [
    "from focoos.ports import Hyperparameters, TrainInstance\n",
    "\n",
    "\n",
    "res = model.remote_train(\n",
    "    anyma_version=\"0.11.1\",\n",
    "    dataset_ref=\"11e80dd77806450f\",\n",
    "    instance_type=TrainInstance.ML_G4DN_XLARGE,\n",
    "    volume_size=50,\n",
    "    max_runtime_in_seconds=36000,\n",
    "    hyperparameters=Hyperparameters(\n",
    "        learning_rate=0.0001,\n",
    "        batch_size=16,\n",
    "        max_iters=1500,\n",
    "        eval_period=100,\n",
    "        resolution=640,\n",
    "    ),  # type: ignore\n",
    ")\n",
    "pprint(res)"
   ]
  },
  {
   "cell_type": "code",
   "execution_count": null,
   "metadata": {},
   "outputs": [],
   "source": [
    "completed_status = [\"Completed\", \"Failed\"]\n",
    "import time\n",
    "from focoos.utils.logger import get_logger\n",
    "\n",
    "logger = get_logger(__name__)\n",
    "\n",
    "status = model.train_status()\n",
    "while status[\"main_status\"] not in completed_status:\n",
    "    status = model.train_status()\n",
    "    logger.info(f\"Training status: {status['main_status']}\")\n",
    "    pprint(f\"Training progress: {status['status_transitions']}\")\n",
    "    time.sleep(30)"
   ]
  },
  {
   "cell_type": "code",
   "execution_count": null,
   "metadata": {},
   "outputs": [],
   "source": [
    "logs = model.train_logs()\n",
    "pprint(logs)"
   ]
  }
 ],
 "metadata": {
  "kernelspec": {
   "display_name": "Python 3",
   "language": "python",
   "name": "python3"
  },
  "language_info": {
   "codemirror_mode": {
    "name": "ipython",
    "version": 3
   },
   "file_extension": ".py",
   "mimetype": "text/x-python",
   "name": "python",
   "nbconvert_exporter": "python",
   "pygments_lexer": "ipython3",
   "version": "3.10.15"
  }
 },
 "nbformat": 4,
 "nbformat_minor": 2
}
