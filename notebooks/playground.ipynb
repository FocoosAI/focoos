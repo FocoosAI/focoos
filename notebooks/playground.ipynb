{
 "cells": [
  {
   "cell_type": "code",
   "execution_count": null,
   "metadata": {},
   "outputs": [],
   "source": [
    "%pip install -e ..[dev]"
   ]
  },
  {
   "cell_type": "code",
   "execution_count": 13,
   "metadata": {},
   "outputs": [
    {
     "name": "stderr",
     "output_type": "stream",
     "text": [
      "\u001b[1;34m[10/21 08:36][INFO][focoos]: Currently logged as: ivan.murabito@focoos.ai\u001b[0m\n"
     ]
    },
    {
     "name": "stderr",
     "output_type": "stream",
     "text": [
      "\u001b[1;34m[10/21 08:36][INFO][focoos]: 🤖 Deployment status: READY\u001b[0m\n",
      "\u001b[1;34m[10/21 08:36][INFO][focoos]: Initialized RemoteModel: focoos_rtdetr\u001b[0m\n"
     ]
    },
    {
     "name": "stdout",
     "output_type": "stream",
     "text": [
      "Time taken: 0.07762551307678223 seconds\n",
      "{'detections': [{'bbox': [424, 60, 630, 631],\n",
      "                 'conf': 0.96,\n",
      "                 'id': 'person',\n",
      "                 'mask': None}]}\n"
     ]
    }
   ],
   "source": [
    "from pprint import pprint\n",
    "import os\n",
    "import time\n",
    "from focoos.focoos import Focoos\n",
    "from dotenv import load_dotenv\n",
    "\n",
    "\n",
    "load_dotenv()\n",
    "\n",
    "host_url = \"https://api.dev.focoos.ai/v0\"\n",
    "#local_url = \"http://localhost:8501/v0\"\n",
    "\n",
    "focoos = Focoos(api_key=os.getenv(\"FOCOOS_API_KEY\"),host_url=host_url)\n",
    "\n",
    "model = focoos.get_remote_model(\"focoos_rtdetr\")\n",
    "t0 = time.time()\n",
    "detections = model.infer(\"./assets/ade_val_034.jpg\",threshold=0.9)\n",
    "t1 = time.time()\n",
    "print(f\"Time taken: {t1-t0} seconds\")\n",
    "pprint(detections)"
   ]
  },
  {
   "cell_type": "code",
   "execution_count": 10,
   "metadata": {},
   "outputs": [
    {
     "name": "stdout",
     "output_type": "stream",
     "text": [
      "Time taken: 0.07845187187194824 seconds\n"
     ]
    }
   ],
   "source": [
    "t0 = time.time()\n",
    "detections = model.infer(\"./assets/ade_val_034.jpg\",threshold=0.5)\n",
    "t1 = time.time()\n",
    "print(f\"Time taken: {t1-t0} seconds\")"
   ]
  },
  {
   "cell_type": "code",
   "execution_count": 14,
   "metadata": {},
   "outputs": [
    {
     "data": {
      "text/plain": [
       "{'status': 'UNAVAILABLE'}"
      ]
     },
     "execution_count": 14,
     "metadata": {},
     "output_type": "execute_result"
    }
   ],
   "source": [
    "focoos.unload_model(\"focoos_rtdetr\")"
   ]
  },
  {
   "cell_type": "code",
   "execution_count": 17,
   "metadata": {},
   "outputs": [
    {
     "name": "stdout",
     "output_type": "stream",
     "text": [
      "[{'description': '🤖 A pixel wizard that sees what others can’t!',\n",
      "  'name': 'quaint_vicugna3',\n",
      "  'ref': 'c2a157fd006f4a65',\n",
      "  'status': 'TRAINING_COMPLETED',\n",
      "  'task': 'detection'}]\n",
      "[{'description': '🤖 A pixel wizard that sees what others can’t!',\n",
      "  'name': 'focoos_rtdetr',\n",
      "  'ref': 'focoos_rtdetr',\n",
      "  'status': 'TRAINING_COMPLETED',\n",
      "  'task': 'detection'},\n",
      " {'description': 'rtdetr',\n",
      "  'name': 'focoos_object365',\n",
      "  'ref': 'focoos_object365',\n",
      "  'status': 'DEPLOYED',\n",
      "  'task': 'detection'},\n",
      " {'description': 'focoos_ade_small',\n",
      "  'name': 'focoos_ade_small',\n",
      "  'ref': 'focoos_ade_small',\n",
      "  'status': 'DEPLOYED',\n",
      "  'task': 'semseg'},\n",
      " {'description': 'focoos_ade_small',\n",
      "  'name': 'focoos_ade_medium',\n",
      "  'ref': 'focoos_ade_medium',\n",
      "  'status': 'DEPLOYED',\n",
      "  'task': 'semseg'},\n",
      " {'description': '',\n",
      "  'name': 'focoos_ade_ins_medium',\n",
      "  'ref': 'focoos_ade_ins_medium',\n",
      "  'status': 'DEPLOYED',\n",
      "  'task': 'instseg'},\n",
      " {'description': '',\n",
      "  'name': 'focoos_ade_large',\n",
      "  'ref': 'focoos_ade_large',\n",
      "  'status': 'DEPLOYED',\n",
      "  'task': 'semseg'},\n",
      " {'description': '',\n",
      "  'name': 'focoos_ade_nano',\n",
      "  'ref': 'focoos_ade_nano',\n",
      "  'status': 'DEPLOYED',\n",
      "  'task': 'semseg'},\n",
      " {'description': '',\n",
      "  'name': 'focoos_ade_stm',\n",
      "  'ref': 'focoos_ade_stm',\n",
      "  'status': 'DEPLOYED',\n",
      "  'task': 'semseg'},\n",
      " {'description': '',\n",
      "  'name': 'focoos_aeroscapes',\n",
      "  'ref': 'focoos_aeroscapes',\n",
      "  'status': 'DEPLOYED',\n",
      "  'task': 'semseg'},\n",
      " {'description': '',\n",
      "  'name': 'focoos_coco_base',\n",
      "  'ref': 'focoos_coco_base',\n",
      "  'status': 'DEPLOYED',\n",
      "  'task': 'detection'},\n",
      " {'description': '',\n",
      "  'name': 'focoos_coco_small',\n",
      "  'ref': 'focoos_coco_small',\n",
      "  'status': 'DEPLOYED',\n",
      "  'task': 'detection'},\n",
      " {'description': '',\n",
      "  'name': 'focoos_coco_tiny',\n",
      "  'ref': 'focoos_coco_tiny',\n",
      "  'status': 'DEPLOYED',\n",
      "  'task': 'detection'},\n",
      " {'description': '',\n",
      "  'name': 'focoos_cts_large',\n",
      "  'ref': 'focoos_cts_large',\n",
      "  'status': 'DEPLOYED',\n",
      "  'task': 'semseg'},\n",
      " {'description': '',\n",
      "  'name': 'focoos_cts_medium',\n",
      "  'ref': 'focoos_cts_medium',\n",
      "  'status': 'DEPLOYED',\n",
      "  'task': 'semseg'},\n",
      " {'description': '',\n",
      "  'name': 'focoos_isaid_medium',\n",
      "  'ref': 'focoos_isaid_medium',\n",
      "  'status': 'DEPLOYED',\n",
      "  'task': 'semseg'},\n",
      " {'description': '',\n",
      "  'name': 'focoos_isaid_nano',\n",
      "  'ref': 'focoos_isaid_nano',\n",
      "  'status': 'DEPLOYED',\n",
      "  'task': 'semseg'}]\n"
     ]
    }
   ],
   "source": [
    "from pprint import pprint\n",
    "models = focoos.list_models()\n",
    "pprint(models)\n",
    "models = focoos.list_focoos_models()\n",
    "pprint(models)"
   ]
  },
  {
   "cell_type": "code",
   "execution_count": null,
   "metadata": {},
   "outputs": [],
   "source": [
    "model_info = focoos.get_model_info(\"focoos_rtdetr\")\n",
    "print(model_info[\"status\"])\n",
    "pprint(model_info)"
   ]
  }
 ],
 "metadata": {
  "kernelspec": {
   "display_name": "Python 3",
   "language": "python",
   "name": "python3"
  },
  "language_info": {
   "codemirror_mode": {
    "name": "ipython",
    "version": 3
   },
   "file_extension": ".py",
   "mimetype": "text/x-python",
   "name": "python",
   "nbconvert_exporter": "python",
   "pygments_lexer": "ipython3",
   "version": "3.10.15"
  }
 },
 "nbformat": 4,
 "nbformat_minor": 2
}
