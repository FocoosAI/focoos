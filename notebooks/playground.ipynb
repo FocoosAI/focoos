{
 "cells": [
  {
   "cell_type": "code",
   "execution_count": null,
   "metadata": {},
   "outputs": [],
   "source": [
    "%pip install -e ..[dev]"
   ]
  },
  {
   "cell_type": "markdown",
   "metadata": {},
   "source": [
    "# 🤖 Foundational Models Cloud inference "
   ]
  },
  {
   "cell_type": "code",
   "execution_count": null,
   "metadata": {},
   "outputs": [],
   "source": [
    "from pprint import pprint\n",
    "import os\n",
    "from focoos import DeploymentMode, Focoos, FocoosEnvHostUrl\n",
    "from dotenv import load_dotenv\n",
    "\n",
    "\n",
    "load_dotenv()\n",
    "\n",
    "focoos = Focoos(api_key=os.getenv(\"FOCOOS_API_KEY\"), host_url=FocoosEnvHostUrl.LOCAL)\n",
    "\n",
    "model = focoos.get_model(\"focoos_ade_small\")\n",
    "## Only admin can deploy foundational models\n",
    "# model.deploy(deployment_mode=DeploymentMode.REMOTE, wait=True)\n",
    "\n",
    "detections = model.remote_infer(\"./assets/ade_val_034.jpg\", threshold=0.4)\n",
    "pprint(detections)"
   ]
  },
  {
   "cell_type": "markdown",
   "metadata": {},
   "source": [
    "### Annotated preview\n"
   ]
  },
  {
   "cell_type": "code",
   "execution_count": null,
   "metadata": {},
   "outputs": [],
   "source": [
    "import supervision as sv\n",
    "import cv2\n",
    "import numpy as np\n",
    "import time\n",
    "\n",
    "preview = model.infer_preview(\"./assets/ade_val_034.jpg\", threshold=0.6)\n",
    "preview = cv2.imdecode(np.frombuffer(preview, np.uint8), cv2.IMREAD_COLOR)\n",
    "sv.plot_image(preview, size=(6, 6))"
   ]
  },
  {
   "cell_type": "markdown",
   "metadata": {},
   "source": [
    "### Unload model from cloud endpoint"
   ]
  },
  {
   "cell_type": "code",
   "execution_count": null,
   "metadata": {},
   "outputs": [],
   "source": [
    "## Only admin can deploy foundational models\n",
    "model.unload()"
   ]
  },
  {
   "cell_type": "markdown",
   "metadata": {},
   "source": [
    "# User Models"
   ]
  },
  {
   "cell_type": "markdown",
   "metadata": {},
   "source": [
    "### List User Models"
   ]
  },
  {
   "cell_type": "code",
   "execution_count": null,
   "metadata": {},
   "outputs": [],
   "source": [
    "from pprint import pprint\n",
    "import os\n",
    "from focoos import Focoos, FocoosEnvHostUrl\n",
    "from dotenv import load_dotenv\n",
    "\n",
    "\n",
    "load_dotenv()\n",
    "\n",
    "focoos = Focoos(api_key=os.getenv(\"FOCOOS_API_KEY\"), host_url=FocoosEnvHostUrl.LOCAL)\n",
    "\n",
    "models = focoos.list_models()\n",
    "pprint(models)"
   ]
  },
  {
   "cell_type": "markdown",
   "metadata": {},
   "source": [
    "### New Model"
   ]
  },
  {
   "cell_type": "code",
   "execution_count": null,
   "metadata": {},
   "outputs": [],
   "source": [
    "from pprint import pprint\n",
    "import os\n",
    "from focoos import DeploymentMode, Focoos, FocoosEnvHostUrl\n",
    "from dotenv import load_dotenv\n",
    "\n",
    "from focoos.ports import NewModel\n",
    "\n",
    "\n",
    "load_dotenv()\n",
    "\n",
    "focoos = Focoos(api_key=os.getenv(\"FOCOOS_API_KEY\"), host_url=FocoosEnvHostUrl.LOCAL)\n",
    "\n",
    "model = focoos.new_model(\n",
    "    NewModel(\n",
    "        name=\"test-model\", focoos_model=\"focoos_object365\", description=\"Test model\"\n",
    "    )\n",
    ")\n",
    "### Get Model Info"
   ]
  },
  {
   "cell_type": "code",
   "execution_count": null,
   "metadata": {},
   "outputs": [],
   "source": [
    "focoos.list_models()"
   ]
  },
  {
   "cell_type": "markdown",
   "metadata": {},
   "source": [
    "## Deploy user model"
   ]
  },
  {
   "cell_type": "code",
   "execution_count": null,
   "metadata": {},
   "outputs": [],
   "source": [
    "from pprint import pprint\n",
    "import os\n",
    "from focoos import Focoos, FocoosEnvHostUrl\n",
    "from dotenv import load_dotenv\n",
    "\n",
    "\n",
    "load_dotenv()\n",
    "\n",
    "focoos = Focoos(api_key=os.getenv(\"FOCOOS_API_KEY\"), host_url=FocoosEnvHostUrl.LOCAL)\n",
    "\n",
    "model = focoos.get_model(\"9626a2e410864148\")\n",
    "model_info = model.get_info()\n",
    "pprint(model_info.location)\n",
    "model.deploy(deployment_mode=DeploymentMode.REMOTE, wait=True)"
   ]
  },
  {
   "cell_type": "code",
   "execution_count": null,
   "metadata": {},
   "outputs": [],
   "source": [
    "import supervision as sv\n",
    "import cv2\n",
    "import numpy as np\n",
    "import time\n",
    "\n",
    "preview = model.infer_preview(\"./assets/ade_val_034.jpg\", threshold=0.2)\n",
    "preview = cv2.imdecode(np.frombuffer(preview, np.uint8), cv2.IMREAD_COLOR)\n",
    "sv.plot_image(preview, size=(6, 6))"
   ]
  },
  {
   "cell_type": "markdown",
   "metadata": {},
   "source": [
    "## Train a Model"
   ]
  },
  {
   "cell_type": "markdown",
   "metadata": {},
   "source": [
    "### List Public Datasets\n"
   ]
  },
  {
   "cell_type": "code",
   "execution_count": null,
   "metadata": {},
   "outputs": [],
   "source": [
    "from pprint import pprint\n",
    "import os\n",
    "from focoos import Focoos, FocoosEnvHostUrl, NewModel\n",
    "from dotenv import load_dotenv\n",
    "\n",
    "\n",
    "load_dotenv()\n",
    "\n",
    "focoos = Focoos(api_key=os.getenv(\"FOCOOS_API_KEY\"), host_url=FocoosEnvHostUrl.LOCAL)\n",
    "\n",
    "models = focoos.list_models()\n",
    "pprint(models)\n",
    "\n",
    "model = focoos.new_model(\n",
    "    NewModel(\n",
    "        name=\"test-model\", focoos_model=\"focoos_object365\", description=\"Test model\"\n",
    "    )\n",
    ")\n",
    "\n",
    "\n",
    "model = focoos.get_model(\"fa94df6806c84c11\")\n",
    "\n",
    "datasets = focoos.list_shared_datasets()\n",
    "pprint(datasets)"
   ]
  },
  {
   "cell_type": "code",
   "execution_count": null,
   "metadata": {},
   "outputs": [],
   "source": [
    "from focoos.ports import Hyperparameters, NewTrain, TrainInstance\n",
    "\n",
    "\n",
    "res = model.train(\n",
    "    NewTrain(\n",
    "        dataset_ref=\"11e80dd77806450f\",\n",
    "        instance_type=TrainInstance.ML_G4DN_XLARGE,\n",
    "        volume_size=50,\n",
    "        max_runtime_in_seconds=36000,\n",
    "        hyperparameters=Hyperparameters(\n",
    "            learning_rate=0.0001, batch_size=16, max_iters=1500\n",
    "        ),\n",
    "    )\n",
    ")\n",
    "pprint(res)"
   ]
  },
  {
   "cell_type": "code",
   "execution_count": null,
   "metadata": {},
   "outputs": [],
   "source": [
    "completed_status = [\"Completed\", \"Failed\"]\n",
    "import time\n",
    "from focoos.utils.logger import get_logger\n",
    "\n",
    "logger = get_logger(__name__)\n",
    "\n",
    "status = model.train_status()\n",
    "while status[\"main_status\"] not in completed_status:\n",
    "    status = model.train_status()\n",
    "    logger.info(f\"Training status: {status['main_status']}\")\n",
    "    pprint(f\"Training progress: {status['status_transitions']}\")\n",
    "    time.sleep(30)"
   ]
  },
  {
   "cell_type": "code",
   "execution_count": null,
   "metadata": {},
   "outputs": [],
   "source": [
    "logs = model.train_logs()\n",
    "pprint(logs)"
   ]
  },
  {
   "cell_type": "code",
   "execution_count": null,
   "metadata": {},
   "outputs": [],
   "source": [
    "from focoos.ports import DeploymentMode\n",
    "import cv2\n",
    "import numpy as np\n",
    "import supervision as sv\n",
    "\n",
    "\n",
    "model.deploy(deployment_mode=DeploymentMode.REMOTE, wait=True)\n",
    "res = model.infer_preview(\"./assets/aquarium.jpg\", threshold=0.2)\n",
    "preview = cv2.imdecode(np.frombuffer(res, np.uint8), cv2.IMREAD_COLOR)\n",
    "sv.plot_image(preview, size=(6, 6))"
   ]
  },
  {
   "cell_type": "markdown",
   "metadata": {},
   "source": [
    "### Download Model"
   ]
  },
  {
   "cell_type": "code",
   "execution_count": null,
   "metadata": {},
   "outputs": [],
   "source": [
    "from focoos import Focoos, FocoosEnvHostUrl, DeploymentMode\n",
    "from dotenv import load_dotenv\n",
    "import os\n",
    "from pprint import pprint\n",
    "\n",
    "focoos = Focoos(\n",
    "    api_key=os.getenv(\"FOCOOS_API_KEY\"),\n",
    "    host_url=FocoosEnvHostUrl.LOCAL,\n",
    ")\n",
    "\n",
    "model_ref = \"focoos_rtdetr\"\n",
    "model_info = focoos.get_model_info(model_ref)\n",
    "\n",
    "model = focoos.get_model(model_ref)\n",
    "model.deploy(deployment_mode=DeploymentMode.LOCAL)\n",
    "\n",
    "latency = model.benchmark(iterations=100, size=640)\n",
    "print(latency)\n"
   ]
  }
 ],
 "metadata": {
  "kernelspec": {
   "display_name": "Python 3",
   "language": "python",
   "name": "python3"
  },
  "language_info": {
   "codemirror_mode": {
    "name": "ipython",
    "version": 3
   },
   "file_extension": ".py",
   "mimetype": "text/x-python",
   "name": "python",
   "nbconvert_exporter": "python",
   "pygments_lexer": "ipython3",
   "version": "3.10.15"
  }
 },
 "nbformat": 4,
 "nbformat_minor": 2
}
