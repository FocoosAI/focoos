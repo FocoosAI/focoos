{
 "cells": [
  {
   "cell_type": "code",
   "execution_count": null,
   "metadata": {},
   "outputs": [],
   "source": [
    "%pip install -e ..[dev]"
   ]
  },
  {
   "cell_type": "markdown",
   "metadata": {},
   "source": [
    "# 🤖 Foundational Models Cloud inference "
   ]
  },
  {
   "cell_type": "code",
   "execution_count": null,
   "metadata": {},
   "outputs": [],
   "source": [
    "from pprint import pprint\n",
    "import os\n",
    "from focoos import DeploymentMode, Focoos, FocoosEnvHostUrl\n",
    "from dotenv import load_dotenv\n",
    "\n",
    "\n",
    "load_dotenv()\n",
    "\n",
    "focoos = Focoos(api_key=os.getenv(\"FOCOOS_API_KEY\"), host_url=FocoosEnvHostUrl.DEV)\n",
    "\n",
    "model = focoos.get_model(\"focoos_object365\")\n",
    "model.deploy(deployment_mode=DeploymentMode.REMOTE, wait=True)\n",
    "for i in range(500):\n",
    "    detections = model.infer(\"./assets/ade_val_034.jpg\", threshold=0.4)\n",
    "    # pprint(detections)"
   ]
  },
  {
   "cell_type": "markdown",
   "metadata": {},
   "source": [
    "### Annotated preview\n"
   ]
  },
  {
   "cell_type": "code",
   "execution_count": null,
   "metadata": {},
   "outputs": [],
   "source": [
    "import supervision as sv\n",
    "import cv2\n",
    "import numpy as np\n",
    "import time\n",
    "\n",
    "preview = model.infer_preview(\"./assets/ade_val_034.jpg\", threshold=0.6)\n",
    "preview = cv2.imdecode(np.frombuffer(preview, np.uint8), cv2.IMREAD_COLOR)\n",
    "sv.plot_image(preview, size=(6, 6))"
   ]
  },
  {
   "cell_type": "markdown",
   "metadata": {},
   "source": [
    "### Unload model from cloud endpoint"
   ]
  },
  {
   "cell_type": "code",
   "execution_count": null,
   "metadata": {},
   "outputs": [],
   "source": [
    "model.unload()"
   ]
  },
  {
   "cell_type": "markdown",
   "metadata": {},
   "source": [
    "## User Models"
   ]
  },
  {
   "cell_type": "code",
   "execution_count": null,
   "metadata": {},
   "outputs": [],
   "source": [
    "from pprint import pprint\n",
    "\n",
    "models = focoos.list_models()\n",
    "pprint(models)"
   ]
  },
  {
   "cell_type": "code",
   "execution_count": null,
   "metadata": {},
   "outputs": [],
   "source": [
    "model = focoos.get_model(\"c2a157fd006f4a65\")\n",
    "model_info = model.info()\n",
    "pprint(model_info.status)"
   ]
  },
  {
   "cell_type": "markdown",
   "metadata": {},
   "source": [
    "# Projects"
   ]
  },
  {
   "cell_type": "markdown",
   "metadata": {},
   "source": [
    "## List Projects"
   ]
  },
  {
   "cell_type": "code",
   "execution_count": null,
   "metadata": {},
   "outputs": [],
   "source": [
    "from focoos import Focoos, FocoosEnvHostUrl\n",
    "\n",
    "\n",
    "focoos = Focoos(api_key=os.getenv(\"FOCOOS_API_KEY\"), host_url=FocoosEnvHostUrl.LOCAL)\n",
    "pprint(focoos.list_projects())"
   ]
  },
  {
   "cell_type": "markdown",
   "metadata": {},
   "source": [
    "## Create Project\n"
   ]
  },
  {
   "cell_type": "code",
   "execution_count": null,
   "metadata": {},
   "outputs": [],
   "source": [
    "from focoos.ports import NewModel\n",
    "from pprint import pprint\n",
    "from focoos import Focoos, FocoosEnvHostUrl, Hyperparameters\n",
    "import os\n",
    "\n",
    "\n",
    "focoos = Focoos(api_key=os.getenv(\"FOCOOS_API_KEY\"), host_url=FocoosEnvHostUrl.LOCAL)\n",
    "project = focoos.create_project(\n",
    "    project_name=\"football-players-detection\",\n",
    "    description=\"football-players-detection\",\n",
    "    dataset_url=\"s3://focoos-shared-datasets/football-players-detection.v12i.coco.zip\",\n",
    "    dataset_name=\"football\",\n",
    "    dataset_layout=\"roboflow_coco\",\n",
    "    task=\"detection\",\n",
    ")\n",
    "\n",
    "project = focoos.get_project(\"7c58c97dbbd54d61\")\n",
    "print(project.metadata)"
   ]
  },
  {
   "cell_type": "markdown",
   "metadata": {},
   "source": [
    "## Add Model to Project"
   ]
  },
  {
   "cell_type": "code",
   "execution_count": null,
   "metadata": {},
   "outputs": [],
   "source": [
    "from focoos.ports import NewModel\n",
    "from pprint import pprint\n",
    "from focoos import Focoos, FocoosEnvHostUrl, Hyperparameters\n",
    "import os\n",
    "\n",
    "\n",
    "focoos = Focoos(api_key=os.getenv(\"FOCOOS_API_KEY\"), host_url=FocoosEnvHostUrl.LOCAL)\n",
    "project = focoos.get_project(\"82e2ed94e4b84369\")\n",
    "project.add_model(\n",
    "    NewModel(\n",
    "        name=\"test_01\",\n",
    "        focoos_model=\"focoos_rtdetr\",\n",
    "        description=\"Test Model\",\n",
    "        hyperparameters=Hyperparameters(\n",
    "            batch_size=8, learning_rate=0.001, max_iters=500\n",
    "        ),\n",
    "    )\n",
    ")\n",
    "\n",
    "model = focoos.get_model(\"3fb1617977134edb\")\n",
    "project.list_models()\n",
    "# model.deploy()"
   ]
  },
  {
   "cell_type": "markdown",
   "metadata": {},
   "source": [
    "## Train a Model"
   ]
  },
  {
   "cell_type": "code",
   "execution_count": null,
   "metadata": {},
   "outputs": [],
   "source": [
    "model = focoos.get_model(\"3fb1617977134edb\")\n",
    "model.train()"
   ]
  }
 ],
 "metadata": {
  "kernelspec": {
   "display_name": "Python 3",
   "language": "python",
   "name": "python3"
  },
  "language_info": {
   "codemirror_mode": {
    "name": "ipython",
    "version": 3
   },
   "file_extension": ".py",
   "mimetype": "text/x-python",
   "name": "python",
   "nbconvert_exporter": "python",
   "pygments_lexer": "ipython3",
   "version": "3.10.15"
  }
 },
 "nbformat": 4,
 "nbformat_minor": 2
}
