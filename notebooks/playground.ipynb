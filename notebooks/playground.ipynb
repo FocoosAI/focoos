{
 "cells": [
  {
   "cell_type": "code",
   "execution_count": null,
   "metadata": {},
   "outputs": [],
   "source": [
    "%pip install -e ..[dev]"
   ]
  },
  {
   "cell_type": "code",
   "execution_count": null,
   "metadata": {},
   "outputs": [],
   "source": [
    "from pprint import pprint\n",
    "import os\n",
    "import time\n",
    "from focoos.focoos import Focoos, DeploymentMode\n",
    "from dotenv import load_dotenv\n",
    "\n",
    "\n",
    "load_dotenv()\n",
    "\n",
    "host_url = \"https://api.dev.focoos.ai/v0\"\n",
    "#local_url = \"http://localhost:8501/v0\"\n",
    "\n",
    "focoos = Focoos(api_key=os.getenv(\"FOCOOS_API_KEY\"),host_url=host_url)\n",
    "\n",
    "model = focoos.get_model(\"c2a157fd006f4a6\", deployment_mode=DeploymentMode.REMOTE)\n",
    "t0 = time.time()\n",
    "detections = model.infer(\"./assets/ade_val_034.jpg\",threshold=0.5)\n",
    "t1 = time.time()\n",
    "print(f\"Time taken: {t1-t0} seconds\")\n",
    "pprint(detections)"
   ]
  },
  {
   "cell_type": "code",
   "execution_count": null,
   "metadata": {},
   "outputs": [],
   "source": [
    "focoos.unload_model(\"c2a157fd006f4a65\")"
   ]
  },
  {
   "cell_type": "code",
   "execution_count": null,
   "metadata": {},
   "outputs": [],
   "source": [
    "from pprint import pprint\n",
    "models = focoos.list_models()\n",
    "pprint(models)\n",
    "models = focoos.list_focoos_models()\n",
    "pprint(models)"
   ]
  },
  {
   "cell_type": "code",
   "execution_count": null,
   "metadata": {},
   "outputs": [],
   "source": [
    "model_info = focoos.get_model_info(\"focoos_rtdetr\")\n",
    "print(model_info[\"status\"])\n",
    "pprint(model_info)"
   ]
  }
 ],
 "metadata": {
  "kernelspec": {
   "display_name": "Python 3",
   "language": "python",
   "name": "python3"
  },
  "language_info": {
   "codemirror_mode": {
    "name": "ipython",
    "version": 3
   },
   "file_extension": ".py",
   "mimetype": "text/x-python",
   "name": "python",
   "nbconvert_exporter": "python",
   "pygments_lexer": "ipython3",
   "version": "3.10.15"
  }
 },
 "nbformat": 4,
 "nbformat_minor": 2
}
