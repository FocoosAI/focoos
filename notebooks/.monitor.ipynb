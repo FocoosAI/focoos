{
 "cells": [
  {
   "cell_type": "code",
   "execution_count": null,
   "metadata": {},
   "outputs": [],
   "source": [
    "from focoos import Focoos\n",
    "from pprint import pprint\n",
    "import os\n",
    "\n",
    "focoos = Focoos(api_key=os.getenv(\"FOCOOS_API_KEY\"))\n",
    "\n",
    "models = focoos.list_models()\n",
    "\n",
    "print(f\"Found {len(models)} models\")\n",
    "print()\n",
    "\n",
    "deployed_models = []\n",
    "print(\"** Deployed models **\")\n",
    "for model in models:\n",
    "    if model.status == \"DEPLOYED\":\n",
    "        print(model.name)\n",
    "        deployed_models.append(model.name)\n",
    "print()\n",
    "\n",
    "print(\"** Currently training models **\")\n",
    "for model in models:\n",
    "    if \"TRAINING_RUNNING\" in model.status:\n",
    "        print(model.name, model.ref)\n",
    "print()\n",
    "\n",
    "print(\"** Ready to deploy models **\")\n",
    "for model in models:\n",
    "    if \"TRAINING_COMPLETED\" in model.status:\n",
    "        print(model.name, model.ref)\n",
    "print()\n",
    "\n",
    "print(\"** Others **\")\n",
    "for model in models:\n",
    "    if model.status not in [\"DEPLOYED\", \"TRAINING_RUNNING\", \"TRAINING_COMPLETED\"]:\n",
    "        print(model.name, model.ref, model.status)\n",
    "print()"
   ]
  },
  {
   "cell_type": "code",
   "execution_count": null,
   "metadata": {},
   "outputs": [],
   "source": [
    "# UNLOAD MODELS\n",
    "model_names = deployed_models\n",
    "\n",
    "for name in model_names:\n",
    "    model = focoos.get_model_by_name(name)\n",
    "    model.unload()"
   ]
  },
  {
   "cell_type": "code",
   "execution_count": null,
   "metadata": {},
   "outputs": [],
   "source": [
    "# DELETE MODELS\n",
    "model_names = [\"ae3f2cc0f00e46a1\", \"d5c85a88a1ef4b61\"]\n",
    "\n",
    "for name in model_names:\n",
    "    model = focoos.get_remote_model(name)\n",
    "    model.delete_model()"
   ]
  },
  {
   "cell_type": "code",
   "execution_count": null,
   "metadata": {},
   "outputs": [],
   "source": []
  }
 ],
 "metadata": {
  "kernelspec": {
   "display_name": "focoos",
   "language": "python",
   "name": "python3"
  },
  "language_info": {
   "codemirror_mode": {
    "name": "ipython",
    "version": 3
   },
   "file_extension": ".py",
   "mimetype": "text/x-python",
   "name": "python",
   "nbconvert_exporter": "python",
   "pygments_lexer": "ipython3",
   "version": "3.11.10"
  }
 },
 "nbformat": 4,
 "nbformat_minor": 2
}
