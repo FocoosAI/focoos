{
 "cells": [
  {
   "cell_type": "markdown",
   "metadata": {},
   "source": [
    "# [Concrete Defect Dataset](https://app.roboflow.com/focoosai/concrete-merge-d91ow/)"
   ]
  },
  {
   "cell_type": "code",
   "execution_count": null,
   "metadata": {},
   "outputs": [],
   "source": [
    "PATH = \"../data/concrete/valid\"\n",
    "\n",
    "from utils import display_instseg\n",
    "\n",
    "display_instseg(PATH, annotate=True)"
   ]
  },
  {
   "cell_type": "markdown",
   "metadata": {},
   "source": [
    "# Focoos SDK"
   ]
  },
  {
   "cell_type": "code",
   "execution_count": null,
   "metadata": {},
   "outputs": [],
   "source": [
    "import os\n",
    "from pprint import pprint\n",
    "from focoos import DeploymentMode, Focoos"
   ]
  },
  {
   "cell_type": "code",
   "execution_count": null,
   "metadata": {},
   "outputs": [],
   "source": [
    "focoos = Focoos()"
   ]
  },
  {
   "cell_type": "markdown",
   "metadata": {},
   "source": [
    "We already loaded the dataset on our platform:"
   ]
  },
  {
   "cell_type": "code",
   "execution_count": null,
   "metadata": {},
   "outputs": [],
   "source": [
    "dataset = focoos.get_dataset_by_name(\"Concrete\")\n",
    "print(dataset)"
   ]
  },
  {
   "cell_type": "markdown",
   "metadata": {},
   "source": [
    "## Let's create a new model for the dataset.\n",
    "\n",
    "Step 1. Create a new model starting from our pretrained on instance segmentation (focoos_ade_ins_medium)"
   ]
  },
  {
   "cell_type": "code",
   "execution_count": null,
   "metadata": {},
   "outputs": [],
   "source": [
    "model = focoos.new_model(\n",
    "    name=\"concrete\",\n",
    "    focoos_model=\"focoos_ade_ins_medium\",\n",
    "    description=\"Test model for concrete dataset\",\n",
    ")"
   ]
  },
  {
   "cell_type": "markdown",
   "metadata": {},
   "source": [
    "Step 2. Run the traning (you can specify many hyperparameters here)"
   ]
  },
  {
   "cell_type": "code",
   "execution_count": null,
   "metadata": {},
   "outputs": [],
   "source": [
    "from focoos.ports import Hyperparameters, TrainInstance\n",
    "\n",
    "res = model.train(\n",
    "    dataset_ref=dataset.ref,  # dataset reference -> Aeroscapes\n",
    "    max_runtime_in_seconds=36000,\n",
    "    # instance_type=TrainInstance.ML_G5_XLARGE,\n",
    "    hyperparameters=Hyperparameters(\n",
    "        learning_rate=0.0005, batch_size=32, max_iters=2000\n",
    "    ),\n",
    ")"
   ]
  },
  {
   "cell_type": "markdown",
   "metadata": {},
   "source": [
    "Step 3. Monitor the training"
   ]
  },
  {
   "cell_type": "code",
   "execution_count": null,
   "metadata": {},
   "outputs": [],
   "source": [
    "model.monitor_train()"
   ]
  },
  {
   "cell_type": "markdown",
   "metadata": {},
   "source": [
    "Step 4. Deploy the model on Focoos servers to be ready for inference!"
   ]
  },
  {
   "cell_type": "code",
   "execution_count": null,
   "metadata": {},
   "outputs": [],
   "source": [
    "model.deploy(deployment_mode=DeploymentMode.REMOTE, wait=True)"
   ]
  },
  {
   "cell_type": "code",
   "execution_count": null,
   "metadata": {},
   "outputs": [],
   "source": [
    "# Select multiple random images\n",
    "PATHS = [os.path.join(PATH, p) for p in os.listdir(PATH)]\n",
    "\n",
    "from utils import start_gradio\n",
    "\n",
    "start_gradio(\n",
    "    model=model, paths=PATHS, allowed_paths=[\"/Users/fcdl94/Develop/focoos/data\"]\n",
    ")"
   ]
  },
  {
   "cell_type": "code",
   "execution_count": null,
   "metadata": {},
   "outputs": [],
   "source": []
  }
 ],
 "metadata": {
  "kernelspec": {
   "display_name": "Python 3 (ipykernel)",
   "language": "python",
   "name": "python3"
  },
  "language_info": {
   "codemirror_mode": {
    "name": "ipython",
    "version": 3
   },
   "file_extension": ".py",
   "mimetype": "text/x-python",
   "name": "python",
   "nbconvert_exporter": "python",
   "pygments_lexer": "ipython3",
   "version": "3.11.10"
  }
 },
 "nbformat": 4,
 "nbformat_minor": 4
}
