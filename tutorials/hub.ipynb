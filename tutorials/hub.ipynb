{
 "cells": [
  {
   "cell_type": "markdown",
   "metadata": {},
   "source": [
    "# 🚀 Focoos HUB Integration"
   ]
  },
  {
   "cell_type": "markdown",
   "metadata": {},
   "source": [
    "🐍 Setup Focoos"
   ]
  },
  {
   "cell_type": "code",
   "execution_count": null,
   "metadata": {},
   "outputs": [],
   "source": [
    "%pip install 'focoos @ git+https://github.com/FocoosAI/focoos.git'"
   ]
  },
  {
   "cell_type": "markdown",
   "metadata": {},
   "source": [
    "## Get User Info"
   ]
  },
  {
   "cell_type": "code",
   "execution_count": null,
   "metadata": {},
   "outputs": [],
   "source": [
    "from focoos.hub import FocoosHUB\n",
    "\n",
    "hub = FocoosHUB()\n",
    "user_info = hub.get_user_info()\n",
    "user_info"
   ]
  },
  {
   "cell_type": "markdown",
   "metadata": {},
   "source": [
    "## List Remote Models"
   ]
  },
  {
   "cell_type": "code",
   "execution_count": null,
   "metadata": {},
   "outputs": [],
   "source": [
    "from focoos.hub import FocoosHUB\n",
    "\n",
    "hub = FocoosHUB()\n",
    "models = hub.list_remote_models()\n",
    "models"
   ]
  },
  {
   "cell_type": "markdown",
   "metadata": {},
   "source": [
    "## List Remote Datasets"
   ]
  },
  {
   "cell_type": "code",
   "execution_count": null,
   "metadata": {},
   "outputs": [],
   "source": [
    "from focoos.hub import FocoosHUB\n",
    "\n",
    "hub = FocoosHUB()\n",
    "datasets = hub.list_remote_datasets(include_shared=True)\n",
    "datasets"
   ]
  },
  {
   "cell_type": "markdown",
   "metadata": {},
   "source": [
    "## Get Model Info"
   ]
  },
  {
   "cell_type": "code",
   "execution_count": null,
   "metadata": {},
   "outputs": [],
   "source": [
    "from focoos.hub import FocoosHUB\n",
    "\n",
    "hub = FocoosHUB()\n",
    "model_info = hub.get_model_info(\"8e1f8b58d85b4771\")\n",
    "model_info"
   ]
  },
  {
   "cell_type": "markdown",
   "metadata": {},
   "source": [
    "## Remote Inference"
   ]
  },
  {
   "cell_type": "code",
   "execution_count": null,
   "metadata": {},
   "outputs": [],
   "source": [
    "from io import BytesIO\n",
    "\n",
    "import requests\n",
    "from PIL import Image\n",
    "\n",
    "from focoos.hub import FocoosHUB\n",
    "from focoos.utils.vision import annotate_image\n",
    "\n",
    "response = requests.get(\"https://public.focoos.ai/samples/pexels-abby-chung.jpg\")\n",
    "image = Image.open(BytesIO(response.content))\n",
    "\n",
    "hub = FocoosHUB()\n",
    "model = hub.get_remote_model(\"8e1f8b58d85b4771\")\n",
    "results = model.infer(image=image, threshold=0.5)\n",
    "\n",
    "annotated_image = annotate_image(\n",
    "    im=image, detections=results, task=model.model_info.task, classes=model.model_info.classes\n",
    ")\n",
    "\n",
    "display(image)\n",
    "display(annotated_image)"
   ]
  },
  {
   "cell_type": "code",
   "execution_count": null,
   "metadata": {},
   "outputs": [],
   "source": [
    "from focoos.model_manager import ModelManager\n",
    "\n",
    "model = ModelManager.get(\"hub://8e1f8b58d85b4771\")\n",
    "\n",
    "model"
   ]
  }
 ],
 "metadata": {
  "kernelspec": {
   "display_name": ".venv",
   "language": "python",
   "name": "python3"
  },
  "language_info": {
   "codemirror_mode": {
    "name": "ipython",
    "version": 3
   },
   "file_extension": ".py",
   "mimetype": "text/x-python",
   "name": "python",
   "nbconvert_exporter": "python",
   "pygments_lexer": "ipython3",
   "version": "3.12.8"
  }
 },
 "nbformat": 4,
 "nbformat_minor": 2
}
