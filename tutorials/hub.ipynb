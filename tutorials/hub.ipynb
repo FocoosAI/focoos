{
 "cells": [
  {
   "cell_type": "markdown",
   "metadata": {},
   "source": [
    "# 🚀 Focoos HUB Integration\n",
    "\n",
    "This notebook demonstrates how to use FocoosHUB to interact with the Focoos AI platform.\n",
    "FocoosHUB provides a seamless integration between your local environment and Focoos cloud services,\n",
    "allowing you to:\n",
    "- Access and manage your user account and API credentials\n",
    "- List, download and deploy remote models from the Focoos model registry\n",
    "- Upload and manage your custom trained models\n",
    "- Run cloud inference on managed models\n",
    "- Monitor model performance and usage metrics"
   ]
  },
  {
   "cell_type": "markdown",
   "metadata": {},
   "source": [
    "## 🐍 Setup Focoos"
   ]
  },
  {
   "cell_type": "code",
   "execution_count": null,
   "metadata": {},
   "outputs": [],
   "source": [
    "%pip install 'focoos @ git+https://github.com/FocoosAI/focoos.git'"
   ]
  },
  {
   "cell_type": "code",
   "execution_count": null,
   "metadata": {},
   "outputs": [],
   "source": [
    "import os\n",
    "\n",
    "API_KEY = os.getenv(\n",
    "    \"FOCOOS_API_KEY\"\n",
    ")  # write here your API key os set env variable FOCOOS_API_KEY, will be load from env if not provided"
   ]
  },
  {
   "cell_type": "markdown",
   "metadata": {},
   "source": [
    "## User info"
   ]
  },
  {
   "cell_type": "code",
   "execution_count": null,
   "metadata": {},
   "outputs": [],
   "source": [
    "from focoos.hub import FocoosHUB\n",
    "\n",
    "hub = FocoosHUB(api_key=API_KEY)\n",
    "user_info = hub.get_user_info()\n",
    "user_info"
   ]
  },
  {
   "cell_type": "markdown",
   "metadata": {},
   "source": [
    "## Remote Models"
   ]
  },
  {
   "cell_type": "code",
   "execution_count": null,
   "metadata": {},
   "outputs": [],
   "source": [
    "from focoos.hub import FocoosHUB\n",
    "\n",
    "hub = FocoosHUB()\n",
    "models = hub.list_remote_models()\n",
    "models"
   ]
  },
  {
   "cell_type": "markdown",
   "metadata": {},
   "source": [
    "## Remote Datasets"
   ]
  },
  {
   "cell_type": "markdown",
   "metadata": {},
   "source": [
    "###"
   ]
  },
  {
   "cell_type": "code",
   "execution_count": null,
   "metadata": {},
   "outputs": [],
   "source": [
    "from focoos.hub import FocoosHUB\n",
    "\n",
    "hub = FocoosHUB()\n",
    "datasets = hub.list_remote_datasets(include_shared=True)\n",
    "datasets"
   ]
  },
  {
   "cell_type": "markdown",
   "metadata": {},
   "source": [
    "## Get Model Info"
   ]
  },
  {
   "cell_type": "code",
   "execution_count": null,
   "metadata": {},
   "outputs": [],
   "source": [
    "from focoos.hub import FocoosHUB\n",
    "\n",
    "model_ref = None  # place here the ref of the model you want to retrieve\n",
    "\n",
    "hub = FocoosHUB()\n",
    "if model_ref is not None:\n",
    "    model_info = hub.get_model_info(model_ref)"
   ]
  },
  {
   "cell_type": "markdown",
   "metadata": {},
   "source": [
    "## Remote Inference with managed models"
   ]
  },
  {
   "cell_type": "code",
   "execution_count": null,
   "metadata": {},
   "outputs": [],
   "source": [
    "from io import BytesIO\n",
    "\n",
    "import requests\n",
    "from PIL import Image\n",
    "\n",
    "from focoos.hub import FocoosHUB\n",
    "from focoos.utils.vision import annotate_image\n",
    "\n",
    "model_ref = None  # place here the ref of the model you want to retrieve\n",
    "\n",
    "response = requests.get(\"https://public.focoos.ai/samples/pexels-abby-chung.jpg\")\n",
    "image = Image.open(BytesIO(response.content))\n",
    "\n",
    "hub = FocoosHUB()\n",
    "if model_ref is not None:\n",
    "    model = hub.get_remote_model(model_ref)\n",
    "    results = model.infer(image=image, threshold=0.5)\n",
    "    annotated_image = annotate_image(\n",
    "        im=image, detections=results, task=model.model_info.task, classes=model.model_info.classes\n",
    "    )\n",
    "\n",
    "    display(image)\n",
    "    display(annotated_image)"
   ]
  },
  {
   "cell_type": "markdown",
   "metadata": {},
   "source": [
    "# Local Training, retrieve dataset from HUB and push Model"
   ]
  },
  {
   "cell_type": "code",
   "execution_count": null,
   "metadata": {},
   "outputs": [],
   "source": [
    "from focoos.data.auto_dataset import AutoDataset\n",
    "from focoos.data.default_aug import get_default_by_task\n",
    "from focoos.hub.focoos_hub import FocoosHUB\n",
    "from focoos.model_manager import ModelManager\n",
    "from focoos.ports import DatasetSplitType, TrainerArgs\n",
    "\n",
    "remote_dataset_ref = None  # place here the ref of the dataset you want to download\n",
    "\n",
    "hub = FocoosHUB()\n",
    "if remote_dataset_ref is not None:\n",
    "    my_datasets = hub.list_remote_datasets(include_shared=False)\n",
    "    remote_dataset = hub.get_remote_dataset(remote_dataset_ref)\n",
    "    dataset_path = remote_dataset.download_data()\n",
    "    auto_dataset = AutoDataset(dataset_name=dataset_path, task=remote_dataset.task, layout=remote_dataset.layout)\n",
    "\n",
    "    train_augs, val_augs = get_default_by_task(remote_dataset.task, 640, advanced=False)\n",
    "    train_dataset = auto_dataset.get_split(augs=train_augs.get_augmentations(), split=DatasetSplitType.TRAIN)\n",
    "    valid_dataset = auto_dataset.get_split(augs=val_augs.get_augmentations(), split=DatasetSplitType.VAL)\n",
    "\n",
    "    model = ModelManager.get(\"fai-detr-l-obj365\")\n",
    "\n",
    "    args = TrainerArgs(\n",
    "        run_name=f\"{remote_dataset.name}-{model.model_info.name}\",\n",
    "        output_dir=\"./experiments\",\n",
    "        amp_enabled=True,\n",
    "        batch_size=16,\n",
    "        max_iters=500,\n",
    "        eval_period=50,\n",
    "        learning_rate=0.0008,\n",
    "        scheduler=\"MULTISTEP\",\n",
    "        weight_decay=0.02,\n",
    "        workers=16,\n",
    "        patience=1,\n",
    "        sync_to_hub=True,  # use this to sync model info, weights and metrics on the hub\n",
    "    )\n",
    "\n",
    "    model.train(args, train_dataset, valid_dataset, hub=hub)"
   ]
  }
 ],
 "metadata": {
  "kernelspec": {
   "display_name": ".venv",
   "language": "python",
   "name": "python3"
  },
  "language_info": {
   "codemirror_mode": {
    "name": "ipython",
    "version": 3
   },
   "file_extension": ".py",
   "mimetype": "text/x-python",
   "name": "python",
   "nbconvert_exporter": "python",
   "pygments_lexer": "ipython3",
   "version": "3.12.0"
  }
 },
 "nbformat": 4,
 "nbformat_minor": 2
}
