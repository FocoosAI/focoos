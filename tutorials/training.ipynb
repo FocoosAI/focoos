{
 "cells": [
  {
   "cell_type": "markdown",
   "metadata": {},
   "source": [
    "# 🧑🏽‍🍳 How to Train a Computer Vision Model with Focoos"
   ]
  },
  {
   "cell_type": "markdown",
   "metadata": {},
   "source": [
    "🐍 Setup Focoos"
   ]
  },
  {
   "cell_type": "raw",
   "metadata": {
    "vscode": {
     "languageId": "raw"
    }
   },
   "source": [
    "%pip install 'focoos @ git+https://github.com/FocoosAI/focoos.git'"
   ]
  },
  {
   "cell_type": "markdown",
   "metadata": {},
   "source": [
    "# 🎨 Fine-tune a model in 3 steps\n",
    "\n",
    "This section covers the steps to create a model and train it using the focoos library. The following example demonstrates how to interact with the Focoos API to manage models, datasets, and training jobs.\n",
    "\n",
    "In this guide, we will perform the following steps:\n",
    "\n",
    "0. 🐍 Connect with Focoos\n",
    "1. 📦 Load or select a dataset\n",
    "2. 🏃‍♂️ Train the model\n",
    "3. 🧪 Test your model\n"
   ]
  },
  {
   "cell_type": "markdown",
   "metadata": {},
   "source": [
    "## 🐍 Connect with Focoos"
   ]
  },
  {
   "cell_type": "code",
   "execution_count": null,
   "metadata": {},
   "outputs": [],
   "source": [
    "from focoos.hub import FocoosHUB\n",
    "\n",
    "FOCOOS_API_KEY = None  # write here your API key\n",
    "hub = FocoosHUB(api_key=FOCOOS_API_KEY)"
   ]
  },
  {
   "cell_type": "markdown",
   "metadata": {},
   "source": [
    "## 📦 Let's create a dataset"
   ]
  },
  {
   "cell_type": "markdown",
   "metadata": {},
   "source": [
    "If you want to download a dataset from the hub, you can use the hub to directly store it in your local environment.\n",
    "Check the reference of your dataset on the platform and use it in the following cell.\n",
    "In the next cell, we will download the example dataset [Football Player Detection](https://app.focoos.ai/datasets/3a7cec8afb6b4780) with reference `3a7cec8afb6b4780`"
   ]
  },
  {
   "cell_type": "code",
   "execution_count": null,
   "metadata": {},
   "outputs": [],
   "source": [
    "dataset = hub.get_remote_dataset(\"3a7cec8afb6b4780\")\n",
    "print(dataset)\n",
    "\n",
    "dataset_path = dataset.download_data()"
   ]
  },
  {
   "cell_type": "markdown",
   "metadata": {},
   "source": [
    "Now that we downloaded the dataset, we can magically 🪄 instanciate the dataset using the `AutoDataset` as will be used in the training. You can optionally specify aumgentations for the training using the `DatasetAugmentation` dataclass."
   ]
  },
  {
   "cell_type": "code",
   "execution_count": null,
   "metadata": {},
   "outputs": [],
   "source": [
    "from focoos.data.auto_dataset import AutoDataset\n",
    "from focoos.data.default_aug import DatasetAugmentations\n",
    "from focoos.ports import DatasetSplitType\n",
    "\n",
    "task = dataset.task  # see ports.Task for more information\n",
    "layout = dataset.layout  # see ports.DatasetLayout for more information\n",
    "auto_dataset = AutoDataset(dataset_name=dataset_path, task=task, layout=layout)\n",
    "\n",
    "train_augs = DatasetAugmentations(\n",
    "    resolution=512,\n",
    "    color_augmentation=1.0,\n",
    "    horizontal_flip=0.5,\n",
    "    vertical_flip=0.0,\n",
    "    rotation=0.0,\n",
    "    aspect_ratio=0.0,\n",
    "    scale_ratio=0.0,\n",
    "    crop=True,\n",
    ")\n",
    "valid_augs = DatasetAugmentations(resolution=512)\n",
    "# Optionally, you can also get the default augmentations for the task\n",
    "# train_augs, valid_augs = get_default_by_task(task, 512)\n",
    "\n",
    "train_dataset = auto_dataset.get_split(augs=train_augs.get_augmentations(), split=DatasetSplitType.TRAIN)\n",
    "valid_dataset = auto_dataset.get_split(augs=valid_augs.get_augmentations(), split=DatasetSplitType.VAL)"
   ]
  },
  {
   "cell_type": "markdown",
   "metadata": {},
   "source": [
    "Let's also visualize a few augmented inputs!"
   ]
  },
  {
   "cell_type": "code",
   "execution_count": null,
   "metadata": {},
   "outputs": [],
   "source": [
    "display(train_dataset.show_sample_image())"
   ]
  },
  {
   "cell_type": "markdown",
   "metadata": {},
   "source": [
    "## 🏃‍♂️ Train the model\n",
    "\n",
    "The first step to personalize your model is to instance a model. You can get a model using the ModelManager as follow.\n",
    "Check the list of available models on the focoos platform! You can also get one of your trained models on the hub."
   ]
  },
  {
   "cell_type": "code",
   "execution_count": null,
   "metadata": {},
   "outputs": [],
   "source": [
    "from focoos.model_manager import ModelManager\n",
    "\n",
    "model = ModelManager.get(\"hub://fai-detr-m-coco\")"
   ]
  },
  {
   "cell_type": "markdown",
   "metadata": {},
   "source": [
    "The next step is to train the model. You can train the model by calling the train method. You need to give it the hyperparameters, encapsulated in the `TrainerArgs`, the datasets and see the magic happens."
   ]
  },
  {
   "cell_type": "code",
   "execution_count": null,
   "metadata": {},
   "outputs": [],
   "source": [
    "from focoos.ports import TrainerArgs\n",
    "\n",
    "args = TrainerArgs(\n",
    "    run_name=\"football-tutorial\",  # the name of the experiment\n",
    "    output_dir=\"./experiments\",  # the folder where the model is saved\n",
    "    batch_size=16,  # how many images in each iteration\n",
    "    max_iters=500,  # how many iterations lasts the training\n",
    "    eval_period=100,  # period after we eval the model on the validation (in iterations)\n",
    "    learning_rate=0.0001,  # learning rate\n",
    "    weight_decay=0.0001,  # regularization strenght (set it properly to avoid under/over fitting)\n",
    "    sync_to_hub=True,  # Use this to see the model under training on the platform\n",
    ")\n",
    "\n",
    "# Let's go!\n",
    "model.train(args, train_dataset, valid_dataset, hub=hub)"
   ]
  },
  {
   "cell_type": "markdown",
   "metadata": {},
   "source": [
    "## 🧪 Test your model\n",
    "Let's visualize some prediction!"
   ]
  },
  {
   "cell_type": "code",
   "execution_count": null,
   "metadata": {},
   "outputs": [],
   "source": [
    "model = ModelManager.get(name=\"exp1\", models_dir=\"./experiments\")"
   ]
  },
  {
   "cell_type": "code",
   "execution_count": null,
   "metadata": {},
   "outputs": [],
   "source": [
    "import random\n",
    "\n",
    "from PIL import Image\n",
    "\n",
    "from focoos.utils.vision import annotate_image\n",
    "\n",
    "index = random.randint(0, len(valid_dataset))\n",
    "\n",
    "print(\"Ground truth:\")\n",
    "display(valid_dataset.show_sample_image(index, use_augmentations=False))\n",
    "\n",
    "image = Image.open(valid_dataset[index][\"file_name\"])\n",
    "outputs = model(image)\n",
    "\n",
    "print(\"Prediction:\")\n",
    "annotate_image(image, outputs, task=task, classes=model.model_info.classes)"
   ]
  },
  {
   "cell_type": "code",
   "execution_count": null,
   "metadata": {},
   "outputs": [],
   "source": []
  }
 ],
 "metadata": {
  "kernelspec": {
   "display_name": ".venv",
   "language": "python",
   "name": "python3"
  },
  "language_info": {
   "codemirror_mode": {
    "name": "ipython",
    "version": 3
   },
   "file_extension": ".py",
   "mimetype": "text/x-python",
   "name": "python",
   "nbconvert_exporter": "python",
   "pygments_lexer": "ipython3",
   "version": "3.12.8"
  }
 },
 "nbformat": 4,
 "nbformat_minor": 2
}
