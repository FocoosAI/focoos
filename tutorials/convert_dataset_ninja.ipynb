{
 "cells": [
  {
   "cell_type": "markdown",
   "metadata": {},
   "source": [
    "# 🥷🏼 Using Dataset Ninja Datasets\n",
    "This is a tutorial about converting a dataset in the format we accept in the platform."
   ]
  },
  {
   "cell_type": "markdown",
   "metadata": {},
   "source": [
    "## Semantic Segmentation\n",
    "\n",
    "As an example, we will use the [PASCAL VOC 2012](https://host.robots.ox.ac.uk/pascal/VOC/) dataset for semantic segmentation that you can download at [Dataset Ninja platform](https://datasetninja.com/pascal-voc-2012#download)."
   ]
  },
  {
   "cell_type": "code",
   "execution_count": null,
   "metadata": {},
   "outputs": [],
   "source": [
    "dataset_dir = \"../datasets\"\n",
    "dataset_name = \"pascal\"\n",
    "new_name = \"pascal_mask\"\n",
    "\n",
    "use_background = True\n",
    "ignore_classes = [\"neutral\"]\n",
    "ignore_folders = []\n",
    "train_split_name = \"train\"\n",
    "val_split_name = \"val\"\n",
    "image_folder = \"img\"\n",
    "mask_folder = \"ann\""
   ]
  },
  {
   "cell_type": "code",
   "execution_count": null,
   "metadata": {},
   "outputs": [],
   "source": [
    "from focoos.data.converters import convert_datasetninja_to_mask_dataset\n",
    "\n",
    "convert_datasetninja_to_mask_dataset(\n",
    "    dataset_root=dataset_dir,\n",
    "    dataset_name=dataset_name,\n",
    "    new_name=new_name,\n",
    "    image_folder=image_folder,\n",
    "    mask_folder=mask_folder,\n",
    "    ignore_folders=ignore_folders,\n",
    "    use_background=use_background,\n",
    "    ignore_classes=ignore_classes,\n",
    "    train_split_name=train_split_name,\n",
    "    val_split_name=val_split_name,\n",
    ")"
   ]
  },
  {
   "cell_type": "markdown",
   "metadata": {},
   "source": [
    "Let's see if everything is ok! \n",
    "We can try to load it with `AutoDataset` and then see some previews."
   ]
  },
  {
   "cell_type": "code",
   "execution_count": null,
   "metadata": {},
   "outputs": [],
   "source": [
    "from focoos.data.auto_dataset import AutoDataset\n",
    "from focoos.data.default_aug import DatasetAugmentations\n",
    "from focoos.ports import DatasetLayout, DatasetSplitType, Task\n",
    "\n",
    "task = Task.SEMSEG\n",
    "layout = DatasetLayout.ROBOFLOW_SEG\n",
    "auto_dataset = AutoDataset(dataset_name=new_name, task=task, layout=layout, datasets_dir=dataset_dir)\n",
    "\n",
    "augs = DatasetAugmentations(resolution=512)\n",
    "\n",
    "train_dataset = auto_dataset.get_split(augs=augs.get_augmentations(), split=DatasetSplitType.TRAIN)\n",
    "valid_dataset = auto_dataset.get_split(augs=augs.get_augmentations(), split=DatasetSplitType.VAL)"
   ]
  },
  {
   "cell_type": "code",
   "execution_count": null,
   "metadata": {},
   "outputs": [],
   "source": [
    "train_dataset.preview()"
   ]
  },
  {
   "cell_type": "markdown",
   "metadata": {},
   "source": [
    "Then, if you want to upload the dataset on the Focoos platform, go on the folder of the dataset and zip it."
   ]
  },
  {
   "cell_type": "code",
   "execution_count": null,
   "metadata": {},
   "outputs": [],
   "source": [
    "%cd {dataset_dir}/{new_name}\n",
    "!zip -r {new_name}.zip .\n",
    "!mv {new_name}.zip ../\n",
    "%cd .."
   ]
  },
  {
   "cell_type": "markdown",
   "metadata": {},
   "source": [
    "## Object Detection\n",
    "\n",
    "As an example, we will use a vehicle dataset for object detection that you can download at [Dataset Ninja platform](https://datasetninja.com/vehicle-dataset-for-yolo#download)."
   ]
  },
  {
   "cell_type": "code",
   "execution_count": null,
   "metadata": {},
   "outputs": [],
   "source": [
    "dataset_dir = \"../datasets\"\n",
    "dataset_name = \"vehicle\"\n",
    "new_name = \"vehicle_coco\"\n",
    "\n",
    "ignore_classes = []\n",
    "ignore_folders = []\n",
    "train_split_name = \"train\"\n",
    "val_split_name = \"valid\"\n",
    "image_folder = \"img\"\n",
    "mask_folder = \"ann\"\n",
    "remove_json = False"
   ]
  },
  {
   "cell_type": "markdown",
   "metadata": {},
   "source": [
    "Let's convert it"
   ]
  },
  {
   "cell_type": "code",
   "execution_count": null,
   "metadata": {},
   "outputs": [],
   "source": [
    "from focoos.data.converters import convert_supervisely_dataset_to_coco\n",
    "\n",
    "convert_supervisely_dataset_to_coco(\n",
    "    dataset_dir,\n",
    "    dataset_name=dataset_name,\n",
    "    new_name=new_name,\n",
    "    image_folder=image_folder,\n",
    "    mask_folder=mask_folder,\n",
    "    ignore_classes=ignore_classes,\n",
    "    train_split_name=train_split_name,\n",
    "    val_split_name=val_split_name,\n",
    "    remove_json=remove_json,\n",
    ")"
   ]
  },
  {
   "cell_type": "markdown",
   "metadata": {},
   "source": [
    "Let's load the dataset and check that everything is fine!"
   ]
  },
  {
   "cell_type": "code",
   "execution_count": null,
   "metadata": {},
   "outputs": [],
   "source": [
    "from focoos.data.auto_dataset import AutoDataset\n",
    "from focoos.data.default_aug import DatasetAugmentations\n",
    "from focoos.ports import DatasetLayout, DatasetSplitType, Task\n",
    "\n",
    "task = Task.DETECTION\n",
    "layout = DatasetLayout.ROBOFLOW_COCO\n",
    "auto_dataset = AutoDataset(dataset_name=new_name, task=task, layout=layout, datasets_dir=dataset_dir)\n",
    "\n",
    "augs = DatasetAugmentations(resolution=512)\n",
    "\n",
    "train_dataset = auto_dataset.get_split(augs=augs.get_augmentations(), split=DatasetSplitType.TRAIN)\n",
    "valid_dataset = auto_dataset.get_split(augs=augs.get_augmentations(), split=DatasetSplitType.VAL)"
   ]
  },
  {
   "cell_type": "code",
   "execution_count": null,
   "metadata": {},
   "outputs": [],
   "source": [
    "valid_dataset.preview()"
   ]
  },
  {
   "cell_type": "markdown",
   "metadata": {},
   "source": [
    "Then, if you want to upload the dataset on the Focoos platform, go on the folder of the dataset and zip it."
   ]
  },
  {
   "cell_type": "code",
   "execution_count": null,
   "metadata": {},
   "outputs": [],
   "source": [
    "%cd {dataset_dir}/{new_name}\n",
    "!zip -r {new_name}.zip .\n",
    "!mv {new_name}.zip ../\n",
    "%cd .."
   ]
  }
 ],
 "metadata": {
  "kernelspec": {
   "display_name": "Python 3",
   "language": "python",
   "name": "python3"
  },
  "language_info": {
   "codemirror_mode": {
    "name": "ipython",
    "version": 3
   },
   "file_extension": ".py",
   "mimetype": "text/x-python",
   "name": "python",
   "nbconvert_exporter": "python",
   "pygments_lexer": "ipython3",
   "version": "3.12.10"
  }
 },
 "nbformat": 4,
 "nbformat_minor": 2
}
